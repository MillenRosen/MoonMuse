{
 "cells": [
  {
   "cell_type": "code",
   "execution_count": null,
   "metadata": {},
   "outputs": [],
   "source": []
  },
  {
   "cell_type": "code",
   "execution_count": 2,
   "metadata": {},
   "outputs": [
    {
     "name": "stdout",
     "output_type": "stream",
     "text": [
      "Prefix counts:\n",
      "Bar_: 1\n",
      "Beat_: 16\n",
      "Chord_Quality_: 13\n",
      "Chord_Root_: 14\n",
      "EOS_: 1\n",
      "Emotion_: 5\n",
      "Key_: 24\n",
      "Note_Degree_: 12\n",
      "Note_Duration_: 16\n",
      "Note_Octave_: 9\n",
      "Note_Velocity_: 42\n",
      "Tempo_: 66\n",
      "Track_: 2\n"
     ]
    }
   ],
   "source": [
    "import pickle\n",
    "from representations.utils import show_prefix_counts\n",
    "\n",
    "# with open('new_events\\chord\\hooktheory_events_lead_sheet_chord11_functional\\dictionary.pkl', 'rb') as f:\n",
    "# with open('events\\chord\\emopia_chord_functional\\dictionary.pkl', 'rb') as f:\n",
    "with open('events\\m2p\\pop1k7_m2p_functional\\dictionary.pkl', 'rb') as f:\n",
    "    results = pickle.load(f)\n",
    "\n",
    "show_prefix_counts(results)\n",
    "# results"
   ]
  },
  {
   "cell_type": "code",
   "execution_count": null,
   "metadata": {},
   "outputs": [
    {
     "name": "stdout",
     "output_type": "stream",
     "text": [
      "Prefix counts:\n",
      "Bar_: 1\n",
      "Beat_: 16\n",
      "Chord_Quality_: 13\n",
      "Chord_Root_: 14\n",
      "EOS_: 1\n",
      "Emotion_: 5\n",
      "Key_: 24\n",
      "Mask_: 1\n",
      "Note_Degree_: 12\n",
      "Note_Duration_: 16\n",
      "Note_Octave_: 9\n",
      "Note_Velocity_: 42\n",
      "Tempo_: 66\n"
     ]
    }
   ],
   "source": [
    "# with open('new_events\\chord\\emopia_events_full_song_chord11_functional\\dictionary.pkl', 'rb') as f:\n",
    "with open(r'events\\raw\\emopia_raw_functional\\dictionary.pkl', 'rb') as f:\n",
    "    dictionary = pickle.load(f)\n",
    "\n",
    "show_prefix_counts(dictionary)\n",
    "# dictionary"
   ]
  },
  {
   "cell_type": "code",
   "execution_count": 2,
   "metadata": {},
   "outputs": [
    {
     "data": {
      "text/plain": [
       "[[2, 11, 20, 29, 38, 47, 56, 65],\n",
       " [{'name': 'Emotion', 'value': None},\n",
       "  {'name': 'Key', 'value': 'c#'},\n",
       "  {'name': 'Bar', 'value': None},\n",
       "  {'name': 'Chord_Root', 'value': 'I'},\n",
       "  {'name': 'Chord_Quality', 'value': 'm7'},\n",
       "  {'name': 'Chord_Root', 'value': 'I'},\n",
       "  {'name': 'Chord_Quality', 'value': 'm7'},\n",
       "  {'name': 'Chord_Root', 'value': 'III'},\n",
       "  {'name': 'Chord_Quality', 'value': 'M'},\n",
       "  {'name': 'Chord_Root', 'value': 'III'},\n",
       "  {'name': 'Chord_Quality', 'value': 'M'},\n",
       "  {'name': 'Bar', 'value': None},\n",
       "  {'name': 'Chord_Root', 'value': 'VI'},\n",
       "  {'name': 'Chord_Quality', 'value': 'M'},\n",
       "  {'name': 'Chord_Root', 'value': 'VI'},\n",
       "  {'name': 'Chord_Quality', 'value': 'M'},\n",
       "  {'name': 'Chord_Root', 'value': 'VI'},\n",
       "  {'name': 'Chord_Quality', 'value': 'M'},\n",
       "  {'name': 'Chord_Root', 'value': 'VI'},\n",
       "  {'name': 'Chord_Quality', 'value': 'M'},\n",
       "  {'name': 'Bar', 'value': None},\n",
       "  {'name': 'Chord_Root', 'value': 'I'},\n",
       "  {'name': 'Chord_Quality', 'value': 'm7'},\n",
       "  {'name': 'Chord_Root', 'value': 'I'},\n",
       "  {'name': 'Chord_Quality', 'value': 'm7'},\n",
       "  {'name': 'Chord_Root', 'value': 'III'},\n",
       "  {'name': 'Chord_Quality', 'value': 'M'},\n",
       "  {'name': 'Chord_Root', 'value': 'III'},\n",
       "  {'name': 'Chord_Quality', 'value': 'M'},\n",
       "  {'name': 'Bar', 'value': None},\n",
       "  {'name': 'Chord_Root', 'value': 'VI'},\n",
       "  {'name': 'Chord_Quality', 'value': 'M'},\n",
       "  {'name': 'Chord_Root', 'value': 'VI'},\n",
       "  {'name': 'Chord_Quality', 'value': 'M'},\n",
       "  {'name': 'Chord_Root', 'value': 'VI'},\n",
       "  {'name': 'Chord_Quality', 'value': 'M'},\n",
       "  {'name': 'Chord_Root', 'value': 'VI'},\n",
       "  {'name': 'Chord_Quality', 'value': 'M'},\n",
       "  {'name': 'Bar', 'value': None},\n",
       "  {'name': 'Chord_Root', 'value': 'I'},\n",
       "  {'name': 'Chord_Quality', 'value': 'm7'},\n",
       "  {'name': 'Chord_Root', 'value': 'I'},\n",
       "  {'name': 'Chord_Quality', 'value': 'm7'},\n",
       "  {'name': 'Chord_Root', 'value': 'III'},\n",
       "  {'name': 'Chord_Quality', 'value': 'M'},\n",
       "  {'name': 'Chord_Root', 'value': 'III'},\n",
       "  {'name': 'Chord_Quality', 'value': 'M'},\n",
       "  {'name': 'Bar', 'value': None},\n",
       "  {'name': 'Chord_Root', 'value': 'VI'},\n",
       "  {'name': 'Chord_Quality', 'value': 'M'},\n",
       "  {'name': 'Chord_Root', 'value': 'VI'},\n",
       "  {'name': 'Chord_Quality', 'value': 'M'},\n",
       "  {'name': 'Chord_Root', 'value': 'VI'},\n",
       "  {'name': 'Chord_Quality', 'value': 'M'},\n",
       "  {'name': 'Chord_Root', 'value': 'VI'},\n",
       "  {'name': 'Chord_Quality', 'value': 'M'},\n",
       "  {'name': 'Bar', 'value': None},\n",
       "  {'name': 'Chord_Root', 'value': 'I'},\n",
       "  {'name': 'Chord_Quality', 'value': 'm7'},\n",
       "  {'name': 'Chord_Root', 'value': 'I'},\n",
       "  {'name': 'Chord_Quality', 'value': 'm7'},\n",
       "  {'name': 'Chord_Root', 'value': 'III'},\n",
       "  {'name': 'Chord_Quality', 'value': 'M'},\n",
       "  {'name': 'Chord_Root', 'value': 'III'},\n",
       "  {'name': 'Chord_Quality', 'value': 'M'},\n",
       "  {'name': 'Bar', 'value': None},\n",
       "  {'name': 'Chord_Root', 'value': 'VI'},\n",
       "  {'name': 'Chord_Quality', 'value': 'M'},\n",
       "  {'name': 'Chord_Root', 'value': 'VI'},\n",
       "  {'name': 'Chord_Quality', 'value': 'M'},\n",
       "  {'name': 'Chord_Root', 'value': 'VI'},\n",
       "  {'name': 'Chord_Quality', 'value': 'M'},\n",
       "  {'name': 'Chord_Root', 'value': 'VI'},\n",
       "  {'name': 'Chord_Quality', 'value': 'M'},\n",
       "  {'name': 'EOS', 'value': None}]]"
      ]
     },
     "execution_count": 2,
     "metadata": {},
     "output_type": "execute_result"
    }
   ],
   "source": [
    "import pickle\n",
    "# with open(r'new_events\\chord\\emopia_events_full_song_chord11_functional\\events\\Q1__8v0MFBZoco_0.pkl', 'rb') as f:\n",
    "with open(r'new_events\\chord\\hooktheory_events_chord\\events\\_Ngb_avYxQA.pkl', 'rb') as f:\n",
    "    events = pickle.load(f)\n",
    "\n",
    "events"
   ]
  },
  {
   "cell_type": "code",
   "execution_count": 2,
   "metadata": {},
   "outputs": [
    {
     "data": {
      "text/plain": [
       "{'name': 'Chord_Quality', 'value': '7'}"
      ]
     },
     "execution_count": 2,
     "metadata": {},
     "output_type": "execute_result"
    }
   ],
   "source": [
    "import pickle\n",
    "# with open(r'new_events\\chord\\emopia_events_full_song_chord11_functional\\events\\Q1__8v0MFBZoco_0.pkl', 'rb') as f:\n",
    "# with open(r'new_events\\chord\\pop1k7_events_chord_functional\\events\\001_001.pkl', 'rb') as f:\n",
    "# with open(r'new_events\\stage2\\pop1k7_events\\full_song_chorder_functional\\events\\001_001.pkl', 'rb') as f:\n",
    "# with open(r'new_events\\c2m\\pop1k7_events_c2m_functional\\events\\001_001.pkl', 'rb') as f:\n",
    "with open(r'new_events\\m2p\\pop1k7_events_m2p_functional\\events\\001_001.pkl', 'rb') as f:\n",
    "    events = pickle.load(f)\n",
    "\n",
    "events[2][20000]"
   ]
  }
 ],
 "metadata": {
  "kernelspec": {
   "display_name": "moon",
   "language": "python",
   "name": "python3"
  },
  "language_info": {
   "codemirror_mode": {
    "name": "ipython",
    "version": 3
   },
   "file_extension": ".py",
   "mimetype": "text/x-python",
   "name": "python",
   "nbconvert_exporter": "python",
   "pygments_lexer": "ipython3",
   "version": "3.9.21"
  }
 },
 "nbformat": 4,
 "nbformat_minor": 2
}
